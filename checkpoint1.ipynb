{
 "cells": [
  {
   "cell_type": "code",
   "execution_count": 1,
   "id": "d2dd3337",
   "metadata": {},
   "outputs": [],
   "source": [
    "import pandas as pd\n",
    "import numpy as np\n",
    "import matplotlib.pyplot as plt\n",
    "\n",
    "pd.options.mode.chained_assignment = None"
   ]
  },
  {
   "cell_type": "code",
   "execution_count": null,
   "id": "807e7818",
   "metadata": {},
   "outputs": [],
   "source": [
    "ds = pd.read_csv('C:\\Users\\e_dob\\OneDrive\\Desktop\\mdst\\states_edu.csv')"
   ]
  },
  {
   "cell_type": "code",
   "execution_count": null,
   "id": "827ad6f9",
   "metadata": {},
   "outputs": [],
   "source": [
    "#Chosen Outcome Variable for Test: Grade 4 Math\n",
    "#27 years of data"
   ]
  },
  {
   "cell_type": "code",
   "execution_count": null,
   "id": "466fec3e",
   "metadata": {},
   "outputs": [],
   "source": [
    "# let's rename our columns to make them more intuitive\n",
    "ds.rename({\n",
    "    'GRADES_PK_G':'ENROLL_PREK',\n",
    "    'GRADES_KG_G':'ENROLL_KINDER',\n",
    "    'GRADES_4_G':'ENROLL_4',\n",
    "    'GRADES_8_G':'ENROLL_8',\n",
    "    'GRADES_12_G':'ENROLL_12',\n",
    "    'GRADES_1_8_G':'ENROLL_PRIMARY',\n",
    "    'GRADES_9_12_G':'ENROLL_HS',\n",
    "    'GRADES_ALL_G':'ENROLL_ALL',\n",
    "    'ENROLL':'ENROLL_ALL_EST'\n",
    "    },\n",
    "    axis=1,inplace=True)\n",
    "#inplace return copy of dataframe"
   ]
  },
  {
   "cell_type": "code",
   "execution_count": null,
   "id": "7585980c",
   "metadata": {},
   "outputs": [],
   "source": [
    "#Michigan = 1603610\n",
    "#Ohio = 1795199\n",
    "#Ohio has the higher average outcome of grades"
   ]
  },
  {
   "cell_type": "code",
   "execution_count": null,
   "id": "eb1e32fb",
   "metadata": {},
   "outputs": [],
   "source": [
    "avg_grade_4_math = ds.groupby(\"AVG_MATH_4_SCORE\")\n",
    "avg_grade_4_math[\"AVG_MATH_4_SCORE\"].mean()"
   ]
  },
  {
   "cell_type": "code",
   "execution_count": null,
   "id": "13a8a410",
   "metadata": {},
   "outputs": [],
   "source": [
    "avg_grade_4_math = ds.groupby(\"GRADES_ALL_G\")\n",
    "avg_grade_4_math[\"GRADES_ALL_G\"].max()"
   ]
  },
  {
   "cell_type": "code",
   "execution_count": null,
   "id": "37293a00",
   "metadata": {},
   "outputs": [],
   "source": [
    "ds[\"supp_serv_per_student\"] = ds[\"SUPPORT_SERVICES_EXPENDITURE\"] / ds[\"GRADES_ALL_G\"]\n",
    "ds.head() #I chose to make a change and add a column for support services per student, since the lack of support services a state has could contribute to lower than average scores"
   ]
  },
  {
   "cell_type": "code",
   "execution_count": null,
   "id": "c902fe1e",
   "metadata": {},
   "outputs": [],
   "source": [
    "ds[\"SUPPORT_SERVICES_EXPENDITURE\"].plot.hist(edgecolor='black',alpha=0.8,title=\"Support Service Expenditure per State\")"
   ]
  },
  {
   "cell_type": "code",
   "execution_count": null,
   "id": "cea01ee9",
   "metadata": {},
   "outputs": [],
   "source": [
    "ds.plot.scatter(x=\"SUPPORT_SERVICES_EXPENDITURE\", y =\"GRADES_ALL_G\", title=\"Support Services per Student\")"
   ]
  },
  {
   "cell_type": "code",
   "execution_count": null,
   "id": "2abaa3d5",
   "metadata": {},
   "outputs": [],
   "source": [
    "from sklearn.model_selection import train_test_split"
   ]
  },
  {
   "cell_type": "code",
   "execution_count": null,
   "id": "eabdefde",
   "metadata": {},
   "outputs": [],
   "source": [
    "X = ds[['ENROLL_8','AVG_MATH_8_SCORE','AVG_READING_4_SCORE']].dropna()\n",
    "y = ds.loc[X.index]['AVG_MATH_4_SCORE']\n",
    "y.fillna(y.median(), inplace=True)\n",
    "X_train, X_test, y_train, y_test = train_test_split(X, y, test_size=.3, random_state=0)"
   ]
  },
  {
   "cell_type": "code",
   "execution_count": null,
   "id": "95a82096",
   "metadata": {},
   "outputs": [],
   "source": [
    "#creating the model\n",
    "from sklearn.linear_model import LinearRegression\n",
    "model=LinearRegression()"
   ]
  },
  {
   "cell_type": "code",
   "execution_count": null,
   "id": "d17a7966",
   "metadata": {},
   "outputs": [],
   "source": [
    "model.fit(X_train,y_train)\n",
    "y_pred = model.predict(X_test)"
   ]
  },
  {
   "cell_type": "code",
   "execution_count": null,
   "id": "75360a93",
   "metadata": {},
   "outputs": [],
   "source": [
    "model.score(X_test, y_test) #for testing the fitness of the model\n",
    "np.mean(model.predict(X_test)-y_test) #mean error of the model"
   ]
  },
  {
   "cell_type": "code",
   "execution_count": null,
   "id": "c5ae914d",
   "metadata": {},
   "outputs": [],
   "source": [
    "col_name = 'AVG_MATH_4_SCORE'\n",
    "\n",
    "f = plt.figure(figsize=(12,6))\n",
    "plt.scatter(X_train[col_name], y_train, color = \"red\")\n",
    "plt.scatter(X_train[col_name], model.predict(X_train), color = \"green\")\n",
    "plt.legend(['True Training','Predicted Training'])\n",
    "plt.xlabel(col_name)\n",
    "plt.ylabel('AVG_MATH_4_SCORE')\n",
    "plt.title(\"Model Behavior On Training Set\")"
   ]
  },
  {
   "cell_type": "code",
   "execution_count": null,
   "id": "2e9b7abf",
   "metadata": {},
   "outputs": [],
   "source": [
    "col_name = 'AVG_MATH_8_SCORE'\n",
    "f = plt.figure(figsize=(12,6))\n",
    "plt.scatter(X_test[col_name], y_test, color = \"blue\")\n",
    "plt.scatter(X_test[col_name], model.predict(X_test), color = \"black\")\n",
    "\n",
    "plt.legend(['True testing','Predicted testing'])\n",
    "plt.xlabel(col_name)\n",
    "plt.ylabel('AVG_MATH_8_SCORE')\n",
    "plt.title(\"Model Behavior on Testing Set\")"
   ]
  },
  {
   "cell_type": "code",
   "execution_count": null,
   "id": "2628c484",
   "metadata": {},
   "outputs": [],
   "source": [
    "#Overall, I enjoyed learning about machine learning and how to test out different models and see how the training set generalizes to the testing set."
   ]
  }
 ],
 "metadata": {
  "kernelspec": {
   "display_name": "Python 3 (ipykernel)",
   "language": "python",
   "name": "python3"
  },
  "language_info": {
   "codemirror_mode": {
    "name": "ipython",
    "version": 3
   },
   "file_extension": ".py",
   "mimetype": "text/x-python",
   "name": "python",
   "nbconvert_exporter": "python",
   "pygments_lexer": "ipython3",
   "version": "3.9.13"
  }
 },
 "nbformat": 4,
 "nbformat_minor": 5
}
