{
 "cells": [
  {
   "cell_type": "code",
   "execution_count": 2,
   "id": "86a14ef5",
   "metadata": {},
   "outputs": [],
   "source": [
    "a = [1, 2, 3, 4, 5, 6]"
   ]
  },
  {
   "cell_type": "code",
   "execution_count": null,
   "id": "a87735ec",
   "metadata": {},
   "outputs": [],
   "source": [
    "print(a[3:6])"
   ]
  },
  {
   "cell_type": "code",
   "execution_count": null,
   "id": "ea9783fd",
   "metadata": {},
   "outputs": [],
   "source": [
    "list = [1,2,3,4,5,6,7,8,9,10,11,12,13,14,15,16,17,18,19,20]"
   ]
  },
  {
   "cell_type": "code",
   "execution_count": null,
   "id": "92aaf42c",
   "metadata": {},
   "outputs": [],
   "source": [
    "numbers = [1,2,3,4,5,6,7,8,9,10,11,12,13,14,15,16,17,18,19,20,21,22,23,24,25,26,27,28,29,30,31,32,33,34,35,36,37,38,39,40,41,42,43,44,45,46,47,48,49,50,51,52,53,54,55,56,57,58,59,60,61,62,63,64,65,66,67,68,69,70,71,72,73,74,75,76,77,78,79,80,81,82,83,84,85,86,87,88,89,90,91,92,93,94,95,96,97,98,99,100]\n",
    "for num in numbers:\n",
    "    if num % 2 == 0:\n",
    "        print(num, end=\"\")"
   ]
  },
  {
   "cell_type": "code",
   "execution_count": null,
   "id": "9ce4648a",
   "metadata": {},
   "outputs": [],
   "source": [
    "def divide(a,b):\n",
    "    division =  a / b\n",
    "    return division\n",
    "print(divide(10,5))"
   ]
  },
  {
   "cell_type": "code",
   "execution_count": null,
   "id": "7e8e6c36",
   "metadata": {},
   "outputs": [],
   "source": [
    "def name(c):\n",
    "    new =c.upper()\n",
    "    return new\n",
    "\n",
    "print(name(\"emily\"))"
   ]
  },
  {
   "cell_type": "code",
   "execution_count": null,
   "id": "7a68ea79",
   "metadata": {},
   "outputs": [],
   "source": [
    "# fizzbuzz\n",
    "# you will need to use both iteration and control flow \n",
    "# go through all numbers from 1 to 30 in order\n",
    "# if the number is a multiple of 3, print fizz\n",
    "# if the number is a multiple of 5, print buzz\n",
    "# if the number is a multiple of 3 and 5, print fizzbuzz and NOTHING ELSE\n",
    "# if the number is neither a multiple of 3 nor a multiple of 5, print the number\n",
    "for fizzbuzz in range(31):\n",
    "    if fizzbuzz % 3 == 0 and fizzbuzz % 5 == 0:\n",
    "        print(\"fizzbuzz\")\n",
    "    elif fizzbuzz % 3 == 0:\n",
    "        print(\"fizz\")\n",
    "    elif fizzbuzz % 5 == 0:\n",
    "        print(\"buzz\")\n",
    "    else:\n",
    "        print(fizzbuzz)"
   ]
  },
  {
   "cell_type": "code",
   "execution_count": 3,
   "id": "70f323b1",
   "metadata": {},
   "outputs": [
    {
     "name": "stdout",
     "output_type": "stream",
     "text": [
      "{'Gyro': '$9', 'Burger': '$9', 'Greek Salad': '$8', 'Philly Steak': '$10'}\n"
     ]
    }
   ],
   "source": [
    "menu = {'Gyro': '$9', 'Burger': '$9', 'Greek Salad': '$8', 'Philly Steak': '$10'}\n",
    "print(menu)"
   ]
  },
  {
   "cell_type": "code",
   "execution_count": null,
   "id": "a3f19b86",
   "metadata": {},
   "outputs": [],
   "source": [
    "data = pd.rea_csv(\"\")"
   ]
  }
 ],
 "metadata": {
  "kernelspec": {
   "display_name": "Python 3 (ipykernel)",
   "language": "python",
   "name": "python3"
  },
  "language_info": {
   "codemirror_mode": {
    "name": "ipython",
    "version": 3
   },
   "file_extension": ".py",
   "mimetype": "text/x-python",
   "name": "python",
   "nbconvert_exporter": "python",
   "pygments_lexer": "ipython3",
   "version": "3.9.13"
  }
 },
 "nbformat": 4,
 "nbformat_minor": 5
}
